{
 "cells": [
  {
   "cell_type": "markdown",
   "metadata": {},
   "source": [
    "# Cálculos de odometría para robot con tracción diferencial \n"
   ]
  },
  {
   "cell_type": "markdown",
   "metadata": {},
   "source": [
    "## Calculo de radio con velocidades constantes \n",
    "\n",
    "Para calcular el radio de la circunferencia trazada por el robot con velocidad lineal y angular constante se pude utilizar la expresión que relaciona el parámetro lineal con el angular mediante el radio. \n",
    "$ V = \\omega R $ "
   ]
  },
  {
   "cell_type": "code",
   "execution_count": 4,
   "metadata": {},
   "outputs": [
    {
     "name": "stdout",
     "output_type": "stream",
     "text": [
      "El radio de la circunferencia trazada es 1.0\n"
     ]
    }
   ],
   "source": [
    "v1 = 0.2 \n",
    "w1 = 0.2 \n",
    "r = v1/w1 \n",
    "print(\"El radio de la circunferencia trazada es\", r)\n"
   ]
  },
  {
   "cell_type": "markdown",
   "metadata": {},
   "source": [
    "## Calculo de velocidades para un radio determinado \n",
    "\n",
    "Para calcular las velocidades del cento odométrico necesarias para describir cierto radio se puede hacer la operación anterior de manera inversa, y se debe tener en cuenta los límites máximos de velocidades. [Especificaciones](https://emanual.robotis.com/docs/en/platform/turtlebot3/features/)\n",
    "\n",
    "$$ V_{max} = 0.22 \\tfrac{m}{s}$$\n",
    "$$ \\omega_{max} = 2.84 \\tfrac{rad}{s}$$ \n",
    "\n",
    "Eligiendo una de las velocidas arbitrariamente y respetando el límite se puede encontrar la otra que satisfaga la ecuación \n"
   ]
  },
  {
   "cell_type": "code",
   "execution_count": 7,
   "metadata": {},
   "outputs": [
    {
     "name": "stdout",
     "output_type": "stream",
     "text": [
      "0.14666666666666667 rad/s\n"
     ]
    }
   ],
   "source": [
    "v2 = 0.22 \n",
    "R = 1.5 \n",
    "w = v2/R \n",
    "print(w, \"rad/s\")"
   ]
  },
  {
   "cell_type": "markdown",
   "metadata": {},
   "source": [
    "## Calculo de velocidades de las ruedas \n",
    "\n",
    "Las velocidades lineales y angulares del centro odométrico se relacionan con las velocidades angulares de las ruedas izquierda y derecha mediante las expresiones: \n",
    "\n",
    "$\\begin{align}\n",
    "           \\omega_{OD}  &= R \\left ( \\frac{\\omega _R - \\omega _L}{b} \\right )  \\label{ec: velocidad odometrica y angulares de rueda} \\\\ \n",
    "           v_{OD}  &= R \\left ( \\frac{\\omega _R + \\omega _L}{2} \\right )  \\label{ec: velocidad angular y angulares de rueda}  \n",
    " \\end{align}$ \n",
    " \n",
    " \n",
    " Las especificaciones mecánicas son: \n",
    " * R = 0.033 m \n",
    " * b = 0.178 m\n",
    " "
   ]
  },
  {
   "cell_type": "code",
   "execution_count": 33,
   "metadata": {},
   "outputs": [],
   "source": [
    "R = 0.033\n",
    "b = 0.178 \n"
   ]
  },
  {
   "cell_type": "markdown",
   "metadata": {},
   "source": [
    "Con esto obtenemos un sistema de dos ecuaciones: \n",
    "\n",
    "$   \\begin{align}\n",
    "         \\omega _R - \\omega _L &=  \\frac{\\omega _{OD}}{R} \\cdot b \\\\ \n",
    "         \\omega _R + \\omega _L &= \\frac{v _{OD}}{R} \\cdot 2   \n",
    "     \\end{align}\n",
    "     $ \n",
    "     \n",
    "     \n",
    " Resolviendo el sistema de forma matricial: \n",
    " \n",
    " $ x = A^{-1}B $ \n"
   ]
  },
  {
   "cell_type": "code",
   "execution_count": 36,
   "metadata": {},
   "outputs": [
    {
     "name": "stdout",
     "output_type": "stream",
     "text": [
      "[[7.06222222]\n",
      " [6.27111111]]\n"
     ]
    }
   ],
   "source": [
    "import numpy as np\n",
    "Wod = w \n",
    "Vod = v2 \n",
    "y1 = b * (Wod/R)\n",
    "y2 = 2 * (Vod/R)\n",
    "\n",
    "A = np.matrix([[1,-1],[1, 1]])\n",
    "B = np.matrix([[y1],[y2]])\n",
    "x = (A**-1)*B\n",
    "wR = x[0]\n",
    "wL = x[1]\n",
    "print(x)\n"
   ]
  },
  {
   "cell_type": "markdown",
   "metadata": {},
   "source": [
    " La velocidad angular de las ruedas: \n",
    " \n",
    " $$\\omega _R = 7.06~\\tfrac{rad}{s}$$\n",
    " \n",
    " $$ \\omega _L = 6.2171~\\tfrac{rad}{s}$$ \n",
    "\n",
    " Para el cálculo de las velocidades **lineales** se utiliza la relación entre este parámtro lineal y angular, el **radio** \n",
    " \n",
    " "
   ]
  },
  {
   "cell_type": "code",
   "execution_count": 39,
   "metadata": {},
   "outputs": [
    {
     "name": "stdout",
     "output_type": "stream",
     "text": [
      "[[0.23305333]] [[0.20694667]]\n"
     ]
    }
   ],
   "source": [
    "vR = wR*R\n",
    "vL = wL*R \n",
    "\n",
    "print(vR,vL)"
   ]
  },
  {
   "cell_type": "markdown",
   "metadata": {},
   "source": [
    " Las velocidades lineales de las ruedas \n",
    " \n",
    "  $$\\boxed{v_R = 0.2330~\\tfrac{m}{s}}$$\n",
    " \n",
    " $$ \\boxed{v_L = 0.206 ~\\tfrac{rad}{s}}$$ \n",
    " \n",
    " "
   ]
  },
  {
   "cell_type": "markdown",
   "metadata": {},
   "source": [
    "## Registro de datos para robot teleoperado\n",
    "\n",
    "Una vez lanzado la simulación de TurtleBot3 en Gazebo, y el nodo de teleoperación: ` roslaunch turtlebot3_teleop turtlebot3_teleop_key.launch `  \n",
    "\n",
    "Desde una nueva terminal se ejecuta el script de python y se redirecciona su salida a un archivo de texto \n",
    "\n",
    "` python3 dump_odom.py > log_teleop.txt `\n",
    "\n",
    "En la primer columna está el tiempo de ejecución. En las dos siguientes coordenadas x,y. \n"
   ]
  },
  {
   "cell_type": "code",
   "execution_count": 13,
   "metadata": {},
   "outputs": [],
   "source": [
    "import pandas as pd \n",
    "import matplotlib.pylab as plt \n",
    "\n",
    "#El separador es un caracter de tab\n",
    "#git clone \n",
    "data = pd.read_csv(\"./log_teleop.txt\", sep= \"\\t\", header=None) \n"
   ]
  },
  {
   "cell_type": "markdown",
   "metadata": {},
   "source": [
    "### Grafico del camino"
   ]
  },
  {
   "cell_type": "code",
   "execution_count": 14,
   "metadata": {},
   "outputs": [
    {
     "data": {
      "image/png": "[encoded data removed]",
      "text/plain": [
       "<Figure size 432x288 with 1 Axes>"
      ]
     },
     "metadata": {
      "needs_background": "light"
     },
     "output_type": "display_data"
    }
   ],
   "source": [
    "#Elimino los datos que sean nulos (para graficar)\n",
    "\n",
    "PuntosX = [x for x in data[1] if x != 0] \n",
    "PuntosY = [y for y in data[2] if y != 0]\n",
    "\n",
    "Camino = plt.plot(PuntosX,PuntosY)"
   ]
  },
  {
   "cell_type": "markdown",
   "metadata": {},
   "source": [
    "### Grafico de la trayectoria\n",
    "\n",
    "Que es la trayectoria..."
   ]
  },
  {
   "cell_type": "code",
   "execution_count": 22,
   "metadata": {},
   "outputs": [
    {
     "data": {
      "text/plain": [
       "[<matplotlib.lines.Line2D at 0x7fde39d32790>]"
      ]
     },
     "execution_count": 22,
     "metadata": {},
     "output_type": "execute_result"
    },
    {
     "data": {
      "image/png": "[encoded data removed]",
      "text/plain": [
       "<Figure size 432x288 with 1 Axes>"
      ]
     },
     "metadata": {
      "needs_background": "light"
     },
     "output_type": "display_data"
    }
   ],
   "source": [
    "PuntosP = [pose for pose in data[1] if pose != 0] \n",
    "PuntosT = [t for t in data[0] if t != 0] \n",
    "\n",
    "plt.plot(PuntosT,PuntosP)"
   ]
  },
  {
   "cell_type": "markdown",
   "metadata": {},
   "source": [
    "### Gráfico de velocidades\n",
    "\n",
    "Las velocidades se encuentran en las últimas dos columnas (5 y 6) "
   ]
  },
  {
   "cell_type": "code",
   "execution_count": 21,
   "metadata": {},
   "outputs": [
    {
     "name": "stdout",
     "output_type": "stream",
     "text": [
      "3423\n"
     ]
    },
    {
     "data": {
      "text/plain": [
       "[<matplotlib.lines.Line2D at 0x7fde37fdc220>]"
      ]
     },
     "execution_count": 21,
     "metadata": {},
     "output_type": "execute_result"
    },
    {
     "data": {
      "image/png": "[encoded data removed]",
      "text/plain": [
       "<Figure size 432x288 with 1 Axes>"
      ]
     },
     "metadata": {
      "needs_background": "light"
     },
     "output_type": "display_data"
    }
   ],
   "source": [
    "PuntosT = [t for t in data[0] if t != 0] \n",
    "PuntosV = [x for x in data[4] if x != 0] \n",
    "PuntosW = [y for y in data[5] if y != 0]\n",
    "\n",
    "print(len(data))\n",
    "\n",
    "plt.plot(PuntosT,PuntosV, color ='red')\n",
    "plt.plot(PuntosT,PuntosW, color ='blue')\n"
   ]
  },
  {
   "cell_type": "markdown",
   "metadata": {},
   "source": [
    "## Registro de datos de robot para camino circular \n",
    "\n",
    "Una vez lanzado la simulación de TurtleBot3 en Gazebo y publicando las velocidades lineales y angulares para un camino circular\n",
    "\n",
    "`rostopic pub -1 /cmd_vel geometry_msgs/Twist '[0.2,0,0]' '[0,0,0.2]' `\n",
    "En una nueva terminal ejecutamos el script y su salida la direccionamos a un archivo de texto \n",
    "\n",
    "` python3 dump_odom.py > log_mov_circular.txt ` \n",
    "\n",
    "En la primer columna está el tiempo de ejecución. En las dos siguientes coordenadas x,y. \n",
    "\n"
   ]
  },
  {
   "cell_type": "code",
   "execution_count": 6,
   "metadata": {},
   "outputs": [
    {
     "data": {
      "text/plain": [
       "[<matplotlib.lines.Line2D at 0x7fde3c6e8d00>]"
      ]
     },
     "execution_count": 6,
     "metadata": {},
     "output_type": "execute_result"
    },
    {
     "data": {
      "image/png": "[encoded data removed]",
      "text/plain": [
       "<Figure size 432x288 with 1 Axes>"
      ]
     },
     "metadata": {
      "needs_background": "light"
     },
     "output_type": "display_data"
    }
   ],
   "source": [
    "import pandas as pd \n",
    "import matplotlib.pylab as plt \n",
    "\n",
    "#El separador es un caracter de tab\n",
    "#git clone \n",
    "data = pd.read_csv(\"./log_mov_circular.txt\", sep= \"\\t\", header=None) \n",
    "\n",
    "#Elimino los datos que sean nulos (para graficar)\n",
    "\n",
    "PuntosX = [x for x in data[1] if x != 0] \n",
    "PuntosY = [y for y in data[2] if y != 0]\n",
    "\n",
    "plt.plot(PuntosX,PuntosY) \n"
   ]
  }
 ],
 "metadata": {
  "kernelspec": {
   "display_name": "Python 3",
   "language": "python",
   "name": "python3"
  },
  "language_info": {
   "codemirror_mode": {
    "name": "ipython",
    "version": 3
   },
   "file_extension": ".py",
   "mimetype": "text/x-python",
   "name": "python",
   "nbconvert_exporter": "python",
   "pygments_lexer": "ipython3",
   "version": "3.8.5"
  }
 },
 "nbformat": 4,
 "nbformat_minor": 4
}
