{
 "cells": [
  {
   "cell_type": "markdown",
   "metadata": {},
   "source": [
    "# Cálculos de odometría para robot con tracción diferencial \n"
   ]
  },
  {
   "cell_type": "markdown",
   "metadata": {},
   "source": [
    "## Calculo de radio con velocidades constantes \n",
    "\n",
    "Para calcular el radio de la circunferencia trazada por el robot con velocidad lineal y angular constante se pude utilizar la expresión que relaciona el parámetro lineal con el angular mediante el radio. \n",
    "$ V = \\omega R $ "
   ]
  },
  {
   "cell_type": "code",
   "execution_count": 4,
   "metadata": {},
   "outputs": [
    {
     "name": "stdout",
     "output_type": "stream",
     "text": [
      "El radio de la circunferencia trazada es 1.0\n"
     ]
    }
   ],
   "source": [
    "v1 = 0.2 \n",
    "w1 = 0.2 \n",
    "r = v1/w1 \n",
    "print(\"El radio de la circunferencia trazada es\", r)\n"
   ]
  },
  {
   "cell_type": "markdown",
   "metadata": {},
   "source": [
    "## Calculo de velocidades para un radio determinado \n",
    "\n",
    "Para calcular las velocidades del cento odométrico necesarias para describir cierto radio se puede hacer la operación anterior de manera inversa, y se debe tener en cuenta los límites máximos de velocidades. [Especificaciones](https://emanual.robotis.com/docs/en/platform/turtlebot3/features/)\n",
    "\n",
    "$$ V_{max} = 0.22 \\tfrac{m}{s}$$\n",
    "$$ \\omega_{max} = 2.84 \\tfrac{rad}{s}$$ \n",
    "\n",
    "Eligiendo una de las velocidas arbitrariamente y respetando el límite se puede encontrar la otra que satisfaga la ecuación \n"
   ]
  },
  {
   "cell_type": "code",
   "execution_count": 7,
   "metadata": {},
   "outputs": [
    {
     "name": "stdout",
     "output_type": "stream",
     "text": [
      "0.14666666666666667 rad/s\n"
     ]
    }
   ],
   "source": [
    "v2 = 0.22 \n",
    "R = 1.5 \n",
    "w = v2/R \n",
    "print(w, \"rad/s\")"
   ]
  },
  {
   "cell_type": "markdown",
   "metadata": {},
   "source": [
    "## Calculo de velocidades de las ruedas \n",
    "\n",
    "Las velocidades lineales y angulares del centro odométrico se relacionan con las velocidades angulares de las ruedas izquierda y derecha mediante las expresiones: \n",
    "\n",
    "$\\begin{align}\n",
    "           \\omega_{OD}  &= R \\left ( \\frac{\\omega _R - \\omega _L}{b} \\right )  \\label{ec: velocidad odometrica y angulares de rueda} \\\\ \n",
    "           v_{OD}  &= R \\left ( \\frac{\\omega _R + \\omega _L}{2} \\right )  \\label{ec: velocidad angular y angulares de rueda}  \n",
    " \\end{align}$ \n",
    " \n",
    " \n",
    " Las especificaciones mecánicas son: \n",
    " * R = 0.033 m \n",
    " * b = 0.178 m\n",
    " "
   ]
  },
  {
   "cell_type": "code",
   "execution_count": 33,
   "metadata": {},
   "outputs": [],
   "source": [
    "R = 0.033\n",
    "b = 0.178 \n"
   ]
  },
  {
   "cell_type": "markdown",
   "metadata": {},
   "source": [
    "Con esto obtenemos un sistema de dos ecuaciones: \n",
    "\n",
    "$   \\begin{align}\n",
    "         \\omega _R - \\omega _L &=  \\frac{\\omega _{OD}}{R} \\cdot b \\\\ \n",
    "         \\omega _R + \\omega _L &= \\frac{v _{OD}}{R} \\cdot 2   \n",
    "     \\end{align}\n",
    "     $ \n",
    "     \n",
    "     \n",
    " Resolviendo el sistema de forma matricial: \n",
    " \n",
    " $ x = A^{-1}B $ \n"
   ]
  },
  {
   "cell_type": "code",
   "execution_count": 36,
   "metadata": {},
   "outputs": [
    {
     "name": "stdout",
     "output_type": "stream",
     "text": [
      "[[7.06222222]\n",
      " [6.27111111]]\n"
     ]
    }
   ],
   "source": [
    "import numpy as np\n",
    "Wod = w \n",
    "Vod = v2 \n",
    "y1 = b * (Wod/R)\n",
    "y2 = 2 * (Vod/R)\n",
    "\n",
    "A = np.matrix([[1,-1],[1, 1]])\n",
    "B = np.matrix([[y1],[y2]])\n",
    "x = (A**-1)*B\n",
    "wR = x[0]\n",
    "wL = x[1]\n",
    "print(x)\n"
   ]
  },
  {
   "cell_type": "markdown",
   "metadata": {},
   "source": [
    " La velocidad angular de las ruedas: \n",
    " \n",
    " $$\\omega _R = 7.06~\\tfrac{rad}{s}$$\n",
    " \n",
    " $$ \\omega _L = 6.2171~\\tfrac{rad}{s}$$ \n",
    "\n",
    " Para el cálculo de las velocidades **lineales** se utiliza la relación entre este parámtro lineal y angular, el **radio** \n",
    " \n",
    " "
   ]
  },
  {
   "cell_type": "code",
   "execution_count": 39,
   "metadata": {},
   "outputs": [
    {
     "name": "stdout",
     "output_type": "stream",
     "text": [
      "[[0.23305333]] [[0.20694667]]\n"
     ]
    }
   ],
   "source": [
    "vR = wR*R\n",
    "vL = wL*R \n",
    "\n",
    "print(vR,vL)"
   ]
  },
  {
   "cell_type": "markdown",
   "metadata": {},
   "source": [
    " Las velocidades lineales de las ruedas \n",
    " \n",
    "  $$\\boxed{v_R = 0.2330~\\tfrac{m}{s}}$$\n",
    " \n",
    " $$ \\boxed{v_L = 0.206 ~\\tfrac{rad}{s}}$$ \n",
    " \n",
    " "
   ]
  },
  {
   "cell_type": "markdown",
   "metadata": {},
   "source": [
    "# Registro de datos de robot para camino circular \n",
    "\n",
    "Una vez lanzado la simulación de TurtleBot3 en Gazebo y publicando las velocidades lineales y angulares para un camino circular\n",
    "\n",
    "`rostopic pub -1 /cmd_vel geometry_msgs/Twist '[0.2,0,0]' '[0,0,0.2]' `\n",
    "En una nueva terminal ejecutamos el script y su salida la direccionamos a un archivo de texto \n",
    "\n",
    "` ./dump_odom.py > log_mov_circular.txt ` \n",
    "\n"
   ]
  },
  {
   "cell_type": "code",
   "execution_count": 40,
   "metadata": {},
   "outputs": [],
   "source": [
    "import pandas as pd \n",
    "import matplotlib.pylab as plt \n",
    "\n",
    "data = pd.read_csv(\"./\")\n"
   ]
  }
 ],
 "metadata": {
  "kernelspec": {
   "display_name": "Python 3",
   "language": "python",
   "name": "python3"
  },
  "language_info": {
   "codemirror_mode": {
    "name": "ipython",
    "version": 3
   },
   "file_extension": ".py",
   "mimetype": "text/x-python",
   "name": "python",
   "nbconvert_exporter": "python",
   "pygments_lexer": "ipython3",
   "version": "3.8.5"
  }
 },
 "nbformat": 4,
 "nbformat_minor": 4
}
